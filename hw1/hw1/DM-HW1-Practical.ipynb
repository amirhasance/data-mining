{
 "cells": [
  {
   "cell_type": "markdown",
   "metadata": {
    "collapsed": false
   },
   "source": [
    "<h1 align=center style=\"line-height:300%;font-family:vazir;color:#0099cc\">\n",
    "<font face=\"vazir\" color=\"#0099cc\">\n",
    "سری اول تمارین عملی درس داده کاوی\n",
    "</font>\n",
    "</h1>\n",
    "<h3 align=center style=\"line-height:100%;font-family:vazir;color:#0099cc\">\n",
    "استاد درس: دکتر مریم امیر مزلقانی\n",
    "</h3>\n",
    "<h5 align=center style=\"font-size: 20px;line-height:100%;font-family:vazir;color:#0099cc\">\n",
    "طراح تمرین عملی: پوریا جمیع  \n",
    "</h5>\n",
    "<p align=center style=\"font-size: 16;line-height:100%;font-family:vazir;color:#0099cc\">\n",
    "    <a href=\"mailto:Aut.DataMining.Fall@gmail.com\">Aut.DataMining.Fall@gmail.com</a>\n",
    "</p>\n"
   ]
  },
  {
   "cell_type": "markdown",
   "metadata": {},
   "source": [
    "<div dir=\"rtl\">\n",
    "<p align=right style=\"font-size: 16;line-height:100%;font-family:vazir;color:yellow\">\n",
    "لطفا خواسته های تمرین را در بخش خودش انجام دهید.\n",
    "</p>\n",
    "\n",
    "</div>"
   ]
  },
  {
   "cell_type": "markdown",
   "metadata": {},
   "source": [
    "<div dir=\"rtl\">\n",
    "<h3 align=right style=\"font-size: 16;line-height:100%;font-family:vazir;color:white\">\n",
    "خواندن کتابخانه ها\n",
    "</h3>\n",
    "</div>"
   ]
  },
  {
   "cell_type": "code",
   "execution_count": 114,
   "metadata": {
    "ExecuteTime": {
     "end_time": "2023-11-10T08:07:15.345012Z",
     "start_time": "2023-11-10T08:07:15.342546Z"
    }
   },
   "outputs": [],
   "source": [
    "# TO-DO\n",
    "import pandas as pd"
   ]
  },
  {
   "cell_type": "markdown",
   "metadata": {},
   "source": [
    "<div dir=\"rtl\">\n",
    "<h3 align=right style=\"font-size: 16;line-height:100%;font-family:vazir;color:white\">\n",
    "دریافت مجموعه داده\n",
    "</h3>\n",
    "</div>"
   ]
  },
  {
   "cell_type": "code",
   "execution_count": 115,
   "metadata": {
    "ExecuteTime": {
     "end_time": "2023-11-10T08:07:21.213708Z",
     "start_time": "2023-11-10T08:07:18.547780Z"
    }
   },
   "outputs": [],
   "source": [
    "# load data\n",
    "dfs = pd.read_excel(\"worldcities.xlsx\",sheet_name=\"Sheet1\")"
   ]
  },
  {
   "cell_type": "markdown",
   "metadata": {},
   "source": [
    "<div dir=\"rtl\">\n",
    "<h3 align=right style=\"font-size: 16;line-height:100%;font-family:vazir;color:white\">\n",
    "حذف و تغییر نام ستون ها\n",
    "</h3>\n",
    "\n",
    "<p dir=rtl style=\"direction: rtl;text-align: justify;line-height:200%;font-family:vazir;font-size:medium\">\n",
    "<font face=\"vazir\" size=3>\n",
    "ستون‌های\n",
    "<code>id</code>،\n",
    "<code>‌capital</code>،\n",
    "<code>ville_ascii</code> \n",
    "و \n",
    "<code>admin_nom</code>\n",
    " را از دیتافریم حذف نمایید.\n",
    "سپس نام ستون‌های \n",
    "<code>ville</code> \n",
    "و \n",
    "<code>pays</code>\n",
    " که به زبان فرانسوی نامگذاری شده‌اند را به ترتیب به \n",
    "<code>city</code> \n",
    "و \n",
    "<code>country</code>\n",
    "تغییر دهید.\n",
    "</font>\n",
    "</p>\n",
    "</div>"
   ]
  },
  {
   "cell_type": "code",
   "execution_count": 116,
   "metadata": {
    "ExecuteTime": {
     "end_time": "2023-11-10T08:07:21.865095Z",
     "start_time": "2023-11-10T08:07:21.853708Z"
    }
   },
   "outputs": [],
   "source": [
    "# drop and rename\n",
    "dfs.drop([\"admin_nom\" , \"id\" , \"capital\" , \"ville_ascii\"] ,axis=1 ,inplace=True)\n",
    "dfs.rename(columns={\"ville\" : \"city\" , \"pays\" : \"country\"}, inplace=True)"
   ]
  },
  {
   "cell_type": "markdown",
   "metadata": {},
   "source": [
    "<div dir=\"rtl\">\n",
    "<h3 align=right style=\"font-size: 16;line-height:100%;font-family:vazir;color:white\">\n",
    "فیلتر کردن داده ها\n",
    "</h3>\n",
    "\n",
    "<p dir=rtl style=\"direction: rtl;text-align: justify;line-height:200%;font-family:vazir;font-size:medium\">\n",
    "شهر‌های با جمعیت اکیدا کمتر از ۱ میلیون نفر  را از دیتافریم حذف کرده و سپس نوع داده‌های ستون \n",
    "<code>population</code>\n",
    " را از \n",
    " <code>float</code>\n",
    "  به\n",
    "  <code>int32</code>\n",
    "   تبدیل نمایید.\n",
    "</p>\n",
    "</div>\n",
    "\n"
   ]
  },
  {
   "cell_type": "code",
   "execution_count": 117,
   "metadata": {
    "ExecuteTime": {
     "end_time": "2023-11-10T08:07:24.941189Z",
     "start_time": "2023-11-10T08:07:24.926060Z"
    }
   },
   "outputs": [],
   "source": [
    "# filter data\n",
    "fdfs = dfs.query('population >= 1000000')"
   ]
  },
  {
   "cell_type": "code",
   "execution_count": 118,
   "metadata": {
    "ExecuteTime": {
     "end_time": "2023-11-10T08:07:27.389768Z",
     "start_time": "2023-11-10T08:07:27.384097Z"
    }
   },
   "outputs": [
    {
     "name": "stderr",
     "output_type": "stream",
     "text": [
      "/var/folders/8m/t8lt0zm53ms6hffbprjp7fwm0000gn/T/ipykernel_4013/1326058514.py:2: SettingWithCopyWarning: \n",
      "A value is trying to be set on a copy of a slice from a DataFrame.\n",
      "Try using .loc[row_indexer,col_indexer] = value instead\n",
      "\n",
      "See the caveats in the documentation: https://pandas.pydata.org/pandas-docs/stable/user_guide/indexing.html#returning-a-view-versus-a-copy\n",
      "  fdfs[\"population\"] = fdfs[\"population\"].astype(int)\n"
     ]
    }
   ],
   "source": [
    "# change type population\n",
    "fdfs[\"population\"] = fdfs[\"population\"].astype(int)"
   ]
  },
  {
   "cell_type": "markdown",
   "metadata": {},
   "source": [
    "<div dir=\"rtl\">\n",
    "<h3 align=right style=\"font-size: 16;line-height:100%;font-family:vazir;color:white\">\n",
    "کار با داده های تکراری و گم شده\n",
    "</h3>\n",
    "<p dir=rtl style=\"direction: rtl;text-align: justify;line-height:200%;font-family:vazir;font-size:medium\">\n",
    "نخست ردیف‌های تکراری دیتافریم و سپس ردیف‌هایی که بیش از یک مورد (۲ مورد و بیش‌تر) از اطلاعات آن‌ها گم‌شده است را از دیتافریم حذف نمایید.\n",
    "</p>\n",
    "</div>\n",
    "\n"
   ]
  },
  {
   "cell_type": "code",
   "execution_count": 119,
   "metadata": {
    "ExecuteTime": {
     "end_time": "2023-11-10T08:07:30.596921Z",
     "start_time": "2023-11-10T08:07:30.581751Z"
    }
   },
   "outputs": [],
   "source": [
    "# remove duplicated and missed values\n",
    "rfdfs = fdfs.drop_duplicates()\n",
    "df_cleaned = rfdfs.dropna(thresh=rfdfs.shape[1]-1)"
   ]
  },
  {
   "cell_type": "markdown",
   "metadata": {},
   "source": [
    "<div dir=\"rtl\">\n",
    "<h3 align=right style=\"font-size: 16;line-height:100%;font-family:vazir;color:white\">\n",
    "پر کردن داده های گم‌شده\n",
    "</h3>\n",
    "<p dir=rtl style=\"direction: rtl;text-align: justify;line-height:200%;font-family:vazir;font-size:medium\">\n",
    "برای مقادیر گم شده در ستون های \n",
    "<code>lat</code> \n",
    "و \n",
    "<code>lng</code>\n",
    "، \n",
    "میانگین همان ستون را در\n",
    "<ins><strong>همان کشور</strong></ins>\n",
    "پر کنید\n",
    "</p>\n",
    "</div>\n",
    "\n"
   ]
  },
  {
   "cell_type": "code",
   "execution_count": 120,
   "metadata": {
    "ExecuteTime": {
     "end_time": "2023-11-10T08:07:33.447332Z",
     "start_time": "2023-11-10T08:07:33.438286Z"
    }
   },
   "outputs": [
    {
     "name": "stderr",
     "output_type": "stream",
     "text": [
      "/var/folders/8m/t8lt0zm53ms6hffbprjp7fwm0000gn/T/ipykernel_4013/3572673460.py:3: SettingWithCopyWarning: \n",
      "A value is trying to be set on a copy of a slice from a DataFrame.\n",
      "Try using .loc[row_indexer,col_indexer] = value instead\n",
      "\n",
      "See the caveats in the documentation: https://pandas.pydata.org/pandas-docs/stable/user_guide/indexing.html#returning-a-view-versus-a-copy\n",
      "  df_cleaned[['lat', 'lng']] = df_cleaned[['lat', 'lng']].fillna(mean_lat_lng)\n"
     ]
    }
   ],
   "source": [
    "# fill the missing values by their country \n",
    "mean_lat_lng = df_cleaned.groupby('country')[['lat', 'lng']].transform('mean')\n",
    "df_cleaned[['lat', 'lng']] = df_cleaned[['lat', 'lng']].fillna(mean_lat_lng)"
   ]
  },
  {
   "cell_type": "markdown",
   "metadata": {},
   "source": [
    "<div dir=\"rtl\">\n",
    "<h3 align=right style=\"font-size: 16;line-height:100%;font-family:vazir;color:white\">\n",
    "محاسبه فاصله\n",
    "</h3>\n",
    "\n",
    "<p dir=rtl style=\"direction: rtl;text-align: justify;line-height:200%;font-family:vazir;font-size:medium\">\n",
    "<font face=\"vazir\" size=3>\n",
    "می‌خواهیم فاصله هر یک از شهر‌ها را از تهران حساب کنیم. برای این کار از فرمول هاورسین استفاده خواهیم کرد. این فرمول بر اساس طول جغرافیایی (Logitude) و عرض جغرافیایی (Latitude)  دو نقطه در سطح یک کره، فاصله آنها را حساب می‌کند.\n",
    "فرمول محاسبه فاصله هاورسین در ادامه آورده شده است. \n",
    "خواسته ما این است که اول با توجه به فرمول هاورسین و مقادیر طول و عرض جغرافیایی تهران که از دیتافریم استخراج می‌کنید تابعی بنویسید که فاصله هر شهر را از تهران محاسبه کند و سپس با استفاده از آن تابع ستون جدیدی در دیتافریم ایجاد کنید که فاصله هر شهر از تهران را داشته باشد\n",
    "</font>\n",
    "</p>\n",
    "\n",
    "</div>\n",
    "\n"
   ]
  },
  {
   "cell_type": "markdown",
   "metadata": {},
   "source": [
    "<p dir=rtl style=\"direction: rtl;text-align: justify;line-height:200%;font-family:vazir;font-size:medium\">\n",
    "<font face=\"vazir\" size=3>\n",
    "فرمول هاورسین:\n",
    "</font>\n",
    "</p>\n",
    "\n",
    "\n",
    "\n",
    "$\\lambda_1$, $\\lambda_2$ : longitudes of the two points in radians (lng)\n",
    "\n",
    "$\\varphi_1$, $\\varphi_2$ : the latitudes of the two points in radians (lat)\n",
    "\n",
    "$d$ : distance between two cities\n",
    "\n",
    "\n",
    "$$\n",
    "r = 6371\n",
    "$$\n",
    "$$\n",
    "a = \\sin^2\\left(\\frac{\\varphi_2-\\varphi_1}{2}\\right) + \\cos(\\varphi_1)\\cos(\\varphi_2)\\sin^2\\left(\\frac{\\lambda_2-\\lambda_1}{2}\\right)\n",
    "$$\n",
    "$$\n",
    "d = 2r \\operatorname{atan2}\\left(\\sqrt{a}, \\sqrt{1 -a}\\right)\n",
    "$$\n",
    "\n",
    "<p dir=rtl style=\"direction: rtl;text-align: justify;line-height:200%;font-family:vazir;font-size:medium\">\n",
    "<font face=\"vazir\" size=3>\n",
    "<code>تذکر:</code>\n",
    "دقت کنید که مقادیر طول و عرض جغرافیایی ثبت شده در دیتافریم به درجه می‌باشد و برای استفاده از رابطه فوق باید به رادیان تبدیل گردد. همچنین توجه کنید ملاک ارزیابی پاسخ شما فرمول فوق و طول و عرض جغرافیایی تهران که در همین دیتافریم درج شده، می‌باشد.\n",
    "</font>\n",
    "</p>"
   ]
  },
  {
   "cell_type": "code",
   "execution_count": 121,
   "metadata": {
    "ExecuteTime": {
     "end_time": "2023-11-10T08:07:37.526288Z",
     "start_time": "2023-11-10T08:07:37.517873Z"
    }
   },
   "outputs": [],
   "source": [
    "# distance function \n",
    "import math\n",
    "def haversine(lat1, lon1, lat2, lon2):\n",
    "\n",
    "    R = 6371.0\n",
    "\n",
    "    # Convert latitude and longitude from degrees to radians\n",
    "    lat1_rad = math.radians(lat1)\n",
    "    lon1_rad = math.radians(lon1)\n",
    "    lat2_rad = math.radians(lat2)\n",
    "    lon2_rad = math.radians(lon2)\n",
    "\n",
    "    # Calculate the differences\n",
    "    dlat = lat2_rad - lat1_rad\n",
    "    dlon = lon2_rad - lon1_rad\n",
    "\n",
    "    # Haversine formula\n",
    "    a = math.sin(dlat / 2)**2 + math.cos(lat1_rad) * math.cos(lat2_rad) * math.sin(dlon / 2)**2\n",
    "    c = 2 * math.atan2(math.sqrt(a), math.sqrt(1 - a))\n",
    "\n",
    "    # Distance in kilometers\n",
    "    distance = R * c\n",
    "\n",
    "    return distance"
   ]
  },
  {
   "cell_type": "code",
   "execution_count": 122,
   "metadata": {
    "ExecuteTime": {
     "end_time": "2023-11-10T08:07:40.806584Z",
     "start_time": "2023-11-10T08:07:40.801416Z"
    }
   },
   "outputs": [
    {
     "name": "stdout",
     "output_type": "stream",
     "text": [
      "            city        lat       lng               country iso2 iso3  \\\n",
      "19           Aba   5.116700    7.3667               Nigeria   NG  NGA   \n",
      "83       Abidjan   5.316700   -4.0333         Côte d'Ivoire   CI  CIV   \n",
      "121    Abu Dhabi  24.466700   54.3667  United Arab Emirates   AE  ARE   \n",
      "131        Abuja   9.066700    7.4833               Nigeria   NG  NGA   \n",
      "169        Accra   5.550000   -0.2000                 Ghana   GH  GHA   \n",
      "...          ...        ...       ...                   ...  ...  ...   \n",
      "44496  Zhumadian  32.977300  114.0253                 China   CN  CHN   \n",
      "44506    Zhuzhou  32.174206  113.1469                 China   CN  CHN   \n",
      "44511       Zibo  36.783100  118.0497                 China   CN  CHN   \n",
      "44517     Zigong  29.349800  104.7645                 China   CN  CHN   \n",
      "44629      Zunyi  27.705000  106.9336                 China   CN  CHN   \n",
      "\n",
      "       population  distance_from_tehran  \n",
      "19        1530000           5634.737243  \n",
      "83        4980000           6575.533770  \n",
      "121       1483000           1280.150009  \n",
      "131       3770000           5331.673578  \n",
      "169       2388000           6230.918394  \n",
      "...           ...                   ...  \n",
      "44496     7231234           5659.546660  \n",
      "44506     4020800           5616.330650  \n",
      "44511     2631647           5851.598592  \n",
      "44517     2678899           4993.215896  \n",
      "44629     6606675           5260.416825  \n",
      "\n",
      "[767 rows x 8 columns]\n"
     ]
    },
    {
     "name": "stderr",
     "output_type": "stream",
     "text": [
      "/var/folders/8m/t8lt0zm53ms6hffbprjp7fwm0000gn/T/ipykernel_4013/397918273.py:8: SettingWithCopyWarning: \n",
      "A value is trying to be set on a copy of a slice from a DataFrame.\n",
      "Try using .loc[row_indexer,col_indexer] = value instead\n",
      "\n",
      "See the caveats in the documentation: https://pandas.pydata.org/pandas-docs/stable/user_guide/indexing.html#returning-a-view-versus-a-copy\n",
      "  df_cleaned[\"distance_from_tehran\"] = df_cleaned.apply(distance_from_tehran , axis=1)\n"
     ]
    }
   ],
   "source": [
    "# add a new column in DataFrame \n",
    "tehran = df_cleaned.loc[df_cleaned[\"city\"] == 'Tehran'].iloc[0]\n",
    "tehranLang = tehran.lng\n",
    "tehranLat = tehran.lat\n",
    "def distance_from_tehran(row):\n",
    "    return haversine(tehranLat,tehranLang,row.lat , row.lng)\n",
    "    \n",
    "df_cleaned[\"distance_from_tehran\"] = df_cleaned.apply(distance_from_tehran , axis=1)\n",
    "print(df_cleaned)"
   ]
  },
  {
   "cell_type": "markdown",
   "metadata": {},
   "source": [
    "<div dir=\"rtl\">\n",
    "<h3 align=right style=\"font-size: 16;line-height:100%;font-family:vazir;color:white\">\n",
    "مرتب سازی\n",
    "</h3>\n",
    "\n",
    "<p dir=rtl style=\"direction: rtl;text-align: justify;line-height:200%;font-family:vazir;font-size:medium\">\n",
    "<font face=\"vazir\" size=3>\n",
    "شهرها را بر اساس حروف الفبا به صورت صعودی مرتب نمایید و سپس بر اساس مقدار ستون \n",
    "<code>\n",
    "lat\n",
    "</code>\n",
    "به صورت نزولی مرتب کرده\n",
    "</font>\n",
    "</p>\n",
    "\n",
    "</div>\n",
    "\n"
   ]
  },
  {
   "cell_type": "code",
   "execution_count": 123,
   "metadata": {
    "ExecuteTime": {
     "end_time": "2023-11-10T08:07:44.827710Z",
     "start_time": "2023-11-10T08:07:44.817564Z"
    }
   },
   "outputs": [
    {
     "name": "stdout",
     "output_type": "stream",
     "text": [
      "            city      lat       lng               country iso2 iso3  \\\n",
      "19           Aba   5.1167    7.3667               Nigeria   NG  NGA   \n",
      "83       Abidjan   5.3167   -4.0333         Côte d'Ivoire   CI  CIV   \n",
      "121    Abu Dhabi  24.4667   54.3667  United Arab Emirates   AE  ARE   \n",
      "131        Abuja   9.0667    7.4833               Nigeria   NG  NGA   \n",
      "169        Accra   5.5500   -0.2000                 Ghana   GH  GHA   \n",
      "...          ...      ...       ...                   ...  ...  ...   \n",
      "41227     Ürümqi  43.8225   87.6125                 China   CN  CHN   \n",
      "385         Āgra  27.1800   78.0200                 India   IN  IND   \n",
      "17397      İzmir  38.4200   27.1400                Turkey   TR  TUR   \n",
      "28638      Ōsaka  34.6939  135.5022                 Japan   JP  JPN   \n",
      "34814  Şanlıurfa  37.1583   38.7917                Turkey   TR  TUR   \n",
      "\n",
      "       population  distance_from_tehran  \n",
      "19        1530000           5634.737243  \n",
      "83        4980000           6575.533770  \n",
      "121       1483000           1280.150009  \n",
      "131       3770000           5331.673578  \n",
      "169       2388000           6230.918394  \n",
      "...           ...                   ...  \n",
      "41227     4335017           3197.472953  \n",
      "385       1585704           2687.466060  \n",
      "17397     4320519           2166.791444  \n",
      "28638    15126000           7381.949949  \n",
      "34814     1985753           1138.007632  \n",
      "\n",
      "[767 rows x 8 columns]\n"
     ]
    }
   ],
   "source": [
    "# Sorting\n",
    "df_sorted = df_cleaned.sort_values(by=[\"city\" , \"lat\"] , ascending=[True, False])\n",
    "print(df_sorted)"
   ]
  },
  {
   "cell_type": "markdown",
   "metadata": {},
   "source": [
    "<div dir=\"rtl\">\n",
    "<h3 align=right style=\"font-size: 16;line-height:100%;font-family:vazir;color:white\">\n",
    "ذخیره سازی\n",
    "</h3>\n",
    "\n",
    "<p dir=rtl style=\"direction: rtl;text-align: justify;line-height:200%;font-family:vazir;font-size:medium\">\n",
    "<font face=\"vazir\" size=3>\n",
    "دیتافریم مرتب شده را بدون نمایه‌هایش (index) در فایلی به فرمت روبه‌رو ذخیره کنید\n",
    "\n",
    "<code>\n",
    "StudentNumber.csv\n",
    "</code>\n",
    "<p style=color:yellow>\n",
    "شماره دانشجویی خودتان را جایگزین StudentNumber کنید\n",
    "</p>\n",
    "</font>\n",
    "</p>\n",
    "\n",
    "</div>\n",
    "\n"
   ]
  },
  {
   "cell_type": "code",
   "execution_count": 124,
   "metadata": {
    "ExecuteTime": {
     "end_time": "2023-11-10T08:07:48.295573Z",
     "start_time": "2023-11-10T08:07:48.285874Z"
    }
   },
   "outputs": [],
   "source": [
    "# Save CSV file\n",
    "df_sorted.to_csv('9731029.csv', index=False)"
   ]
  },
  {
   "cell_type": "markdown",
   "metadata": {},
   "source": [
    "<div align=center>\n",
    "    <img src=\"image-2.png\" alt=\"Alt text\">\n",
    "</div>\n",
    "<div align=center>\n",
    "    <p dir=\"rtl\">3 سطر اول فایل شما باید به صورت فوق باشد</p>\n",
    "</div>"
   ]
  },
  {
   "cell_type": "markdown",
   "metadata": {},
   "source": [
    "<div dir=\"rtl\">\n",
    "<h3 align=right style=\"font-size: 16;line-height:100%;font-family:vazir;color:white\">\n",
    "مصور سازی\n",
    "</h3>\n",
    "\n",
    "<p dir=rtl style=\"direction: rtl;text-align: justify;line-height:200%;font-family:vazir;font-size:medium\">\n",
    "<font face=\"vazir\" size=3>\n",
    "در این قسمت نموداری رسم کنید که فاصله 10 شهری که کمترین فاصله را از تهران دارند را در قالب یک bar chart نمایش دهد.\n",
    "</font>\n",
    "<br>\n",
    "نمودار خروجی خود را به فرمت روبه‌رو ذخیر کنید: \n",
    "<code> plot_1.png </code>\n",
    "</p>\n",
    "\n",
    "</div>\n",
    "\n"
   ]
  },
  {
   "cell_type": "code",
   "execution_count": 125,
   "metadata": {
    "ExecuteTime": {
     "end_time": "2023-11-10T08:07:51.194106Z",
     "start_time": "2023-11-10T08:07:51.065531Z"
    }
   },
   "outputs": [
    {
     "data": {
      "text/plain": "<Figure size 1000x600 with 1 Axes>",
      "image/png": "[encoded data removed]"
     },
     "metadata": {},
     "output_type": "display_data"
    }
   ],
   "source": [
    "# 10 Nearest Cities to Tehran\n",
    "# Population of the 10 Nearest Cities to Tehran\n",
    "# 10 Nearest Cities to Tehran\n",
    "import matplotlib.pyplot as plt\n",
    "min_rows = df_sorted.nsmallest(11, \"distance_from_tehran\")\n",
    "min_rows = min_rows[min_rows[\"city\"] != \"Tehran\"]\n",
    "plt.figure(figsize=(10, 6))\n",
    "plt.bar(min_rows['city'], min_rows[\"distance_from_tehran\"])\n",
    "plt.xlabel('city')\n",
    "plt.ylabel(\"population\")\n",
    "plt.title(f'Ten nearest cities to tehran')\n",
    "plt.savefig('plot_1.png')\n",
    "plt.show()"
   ]
  },
  {
   "cell_type": "markdown",
   "metadata": {},
   "source": [
    "<p dir=rtl style=\"direction: rtl;text-align: justify;line-height:200%;font-family:vazir;font-size:medium\">\n",
    "<font face=\"vazir\" size=3>\n",
    "در قسمت بعدی می‌خواهیم جمعیت 10 شهری که کمترین فاصله را با تهران دارند را رسم نمایید.\n",
    "<br>\n",
    "نمودار خروجی خود را به فرمت روبه‌رو ذخیر کنید: \n",
    "<code> plot_2.png </code>\n",
    "</font>\n",
    "</p>"
   ]
  },
  {
   "cell_type": "code",
   "execution_count": 126,
   "metadata": {
    "ExecuteTime": {
     "end_time": "2023-11-10T08:07:54.581549Z",
     "start_time": "2023-11-10T08:07:54.432734Z"
    }
   },
   "outputs": [
    {
     "data": {
      "text/plain": "<Figure size 1000x600 with 1 Axes>",
      "image/png": "[encoded data removed]"
     },
     "metadata": {},
     "output_type": "display_data"
    }
   ],
   "source": [
    "# Population of the 10 Nearest Cities to Tehran\n",
    "# 10 Nearest Cities to Tehran\n",
    "import matplotlib.pyplot as plt\n",
    "min_rows = df_sorted.nsmallest(11, \"distance_from_tehran\")\n",
    "min_rows = min_rows[min_rows[\"city\"] != \"Tehran\"]\n",
    "plt.figure(figsize=(10, 6))\n",
    "plt.bar(min_rows['city'], min_rows[\"distance_from_tehran\"])\n",
    "plt.xlabel('city')\n",
    "plt.ylabel(\"population\")\n",
    "plt.title(f'population of Ten nearst cities to tehran')\n",
    "plt.savefig('plot_2.png')\n",
    "plt.show()"
   ]
  },
  {
   "cell_type": "markdown",
   "metadata": {},
   "source": [
    "<p dir=rtl style=\"direction: rtl;text-align: justify;line-height:200%;font-family:vazir;font-size:medium\">\n",
    "<font face=\"vazir\" size=3>\n",
    "در قسمت آخر میخواهیم نمودار Scatter ای رسم کنید که محور افقی آن Longtitude و محور عمودی آن Latitude باشد. \n",
    "</font>\n",
    "خروجی نهایی این نمودار با توجه به حجم بالای دیتاست بسیار جالب است.\n",
    "\n",
    "<br>\n",
    "نمودار خروجی خود را به فرمت روبه‌رو ذخیر کنید: \n",
    "<code> plot_3.png </code>\n",
    "</p>"
   ]
  },
  {
   "cell_type": "code",
   "execution_count": 127,
   "metadata": {
    "ExecuteTime": {
     "end_time": "2023-11-10T08:07:57.501679Z",
     "start_time": "2023-11-10T08:07:57.360183Z"
    }
   },
   "outputs": [
    {
     "data": {
      "text/plain": "<Figure size 800x600 with 1 Axes>",
      "image/png": "[encoded data removed]"
     },
     "metadata": {},
     "output_type": "display_data"
    }
   ],
   "source": [
    "# City Latitudes and Longitudes\n",
    "plt.figure(figsize=(8, 6))\n",
    "plt.scatter(df_sorted['lng'], df_sorted['lat'], color='blue', marker='o')\n",
    "plt.title('Scatter Plot of Latitude vs Longitude')\n",
    "plt.xlabel('Longitude')\n",
    "plt.ylabel('Latitude')\n",
    "plt.grid(True)\n",
    "plt.savefig('plot_3.png')\n",
    "plt.show()"
   ]
  },
  {
   "cell_type": "markdown",
   "metadata": {},
   "source": [
    "<div dir=\"rtl\">\n",
    "<h3 align=right style=\"font-size: 16;line-height:100%;font-family:vazir;color:green\">\n",
    "بخش امتیازی\n",
    "</h3>\n",
    "\n",
    "<p dir=rtl style=\"direction: rtl;text-align: justify;line-height:200%;font-family:vazir;font-size:medium\">\n",
    "هر نوع مصور سازی دیگر و یا تحلیل و کار با داده در صورتی که به فهم بهتر داده کمک کند نمره امتیازی خواهد داشت.\n",
    "</p>\n",
    "\n",
    "</div>\n",
    "\n"
   ]
  }
 ],
 "metadata": {
  "kernelspec": {
   "display_name": "Python 3",
   "language": "python",
   "name": "python3"
  },
  "language_info": {
   "name": "python",
   "version": "3.10.5"
  },
  "orig_nbformat": 4
 },
 "nbformat": 4,
 "nbformat_minor": 2
}
